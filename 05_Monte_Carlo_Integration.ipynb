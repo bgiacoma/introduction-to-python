{
 "cells": [
  {
   "cell_type": "markdown",
   "metadata": {},
   "source": [
    "This notebook is based upon https://www.geeksforgeeks.org/monte-carlo-integration-in-python/\n",
    "\n",
    "In Monte Carlo methods random numbers are used to compute integals using the following idea:\n",
    "\n",
    "$<f(x)>\\equiv\\frac{1}{b-a}\\int^b_a f(x) dx$\n",
    "\n",
    "$<f(x)>({b-a})=\\int^b_a f(x) dx$\n",
    "\n",
    "but $<f(x)>\\approx\\frac{1}{N}\\Sigma_{i=1}^N f(x_i)$\n",
    "\n",
    "and therefore $(b-a) \\frac{1}{N}\\Sigma_{i=1}^N f(x_i) \\approx \\int^b_a f(x) dx$\n",
    "\n",
    "where N is the number of points where the function is computed and that will be selected randomly in the interval $[a,b]$.\n"
   ]
  },
  {
   "cell_type": "markdown",
   "metadata": {},
   "source": [
    "Let us use this method to compute $\\int_0^\\pi sin(x) dx = 2$\n",
    "\n",
    "(note that Monte Carlo methods are typically more useful when doing integrals in 2 or more dimensions since one can get an accurate solution with fewer points and hence a lower computational cost than other numerical methods)"
   ]
  },
  {
   "cell_type": "code",
   "execution_count": 1,
   "metadata": {},
   "outputs": [
    {
     "name": "stdout",
     "output_type": "stream",
     "text": [
      "The value calculated by monte carlo integration is 2.0123224792115284.\n"
     ]
    }
   ],
   "source": [
    "import numpy as np\n",
    "\n",
    "# limits of integration\n",
    "a = 0\n",
    "b = np.pi # gets the value of pi\n",
    "N = 1000 #number of points for the integration (the larger the better)\n",
    "\n",
    "# array of zeros of length N\n",
    "ar = np.zeros(N)\n",
    "\n",
    "# iterating over each value of ar and filling\n",
    "# it with a random value between the limits a\n",
    "# and b\n",
    "for i in range (len(ar)):\n",
    "    ar[i] = np.random.uniform(a,b)\n",
    "\n",
    "# variable to store sum of the functions of\n",
    "# different values of x\n",
    "integral = 0.0\n",
    "\n",
    "# function to calculate the sin of a particular\n",
    "# value of x\n",
    "def f(x):\n",
    "    return np.sin(x)\n",
    "\n",
    "# iterates and sums up values of different functions\n",
    "# of x\n",
    "for i in ar:\n",
    "    integral += f(i)\n",
    "\n",
    "# we get the answer by the formula derived adobe\n",
    "ans = (b-a)/N*integral\n",
    "\n",
    "# prints the solution\n",
    "print (f'The value calculated by monte carlo integration is {ans}.')\n"
   ]
  },
  {
   "cell_type": "code",
   "execution_count": 2,
   "metadata": {},
   "outputs": [],
   "source": [
    "?np.random"
   ]
  },
  {
   "cell_type": "markdown",
   "metadata": {},
   "source": [
    "We can also have a look at the value obtained for the integral when changing $N$. This will give us a visual representation of the most probable result."
   ]
  },
  {
   "cell_type": "code",
   "execution_count": 3,
   "metadata": {},
   "outputs": [
    {
     "data": {
      "image/png": "[encoded data removed]",
      "text/plain": [
       "<Figure size 432x288 with 1 Axes>"
      ]
     },
     "metadata": {
      "needs_background": "light"
     },
     "output_type": "display_data"
    }
   ],
   "source": [
    "import matplotlib.pyplot as plt\n",
    "\n",
    "# list to store all the values for plotting\n",
    "plt_vals = []\n",
    "\n",
    "# we iterate through all the values to generate\n",
    "# multiple results and show whose intensity is\n",
    "# the most.\n",
    "for i in range(N):\n",
    "\n",
    "    #array of zeros of length N\n",
    "    ar = np.zeros(N)\n",
    "\n",
    "    # iterating over each Value of ar and filling it\n",
    "    # with a randome value between the limits a and b\n",
    "    for i in range (len(ar)):\n",
    "        ar[i] = np.random.uniform(a,b)\n",
    "\n",
    "    # variable to store sum of the functions of different\n",
    "    # values of x\n",
    "    integral = 0.0\n",
    "\n",
    "    # iterates and sums up values of different functions\n",
    "    # of x\n",
    "    for i in ar:\n",
    "        integral += f(i)\n",
    "\n",
    "    # we get the answer by the formula derived adobe\n",
    "    ans = (b-a)/float(N)*integral\n",
    "\n",
    "    # appends the solution to a list for plotting the graph\n",
    "    plt_vals.append(ans)\n",
    "\n",
    "# details of the plot to be generated\n",
    "# sets the title of the plot\n",
    "plt.title(\"Distributions of areas calculated\")\n",
    "\n",
    "# 3 parameters (array on which histogram needs\n",
    "# to be made, bins, separators colour between the\n",
    "# beams)\n",
    "plt.hist (plt_vals, bins=30, ec=\"black\")\n",
    "\n",
    "# sets the label of the x-axis of the plot\n",
    "plt.xlabel(\"Areas\")\n",
    "plt.show() # shows the plot\n"
   ]
  },
  {
   "cell_type": "markdown",
   "metadata": {},
   "source": [
    "From scipy we can also load the integrate module to compute the integral in a different way using scipy.integrate https://docs.scipy.org/doc/scipy/reference/reference/integrate.html#module-scipy.integrate"
   ]
  },
  {
   "cell_type": "code",
   "execution_count": 4,
   "metadata": {},
   "outputs": [],
   "source": [
    "import scipy.integrate as integrate"
   ]
  },
  {
   "cell_type": "code",
   "execution_count": 5,
   "metadata": {},
   "outputs": [],
   "source": [
    "?integrate"
   ]
  },
  {
   "cell_type": "code",
   "execution_count": 6,
   "metadata": {},
   "outputs": [
    {
     "name": "stdout",
     "output_type": "stream",
     "text": [
      "(2.0, 2.220446049250313e-14)\n"
     ]
    }
   ],
   "source": [
    "result = integrate.quad(f, a, b)\n",
    "print(result)"
   ]
  },
  {
   "cell_type": "markdown",
   "metadata": {},
   "source": [
    "We can also compute the integral analytically using sympy\n",
    "https://www.sympy.org/en/index.html"
   ]
  },
  {
   "cell_type": "code",
   "execution_count": 7,
   "metadata": {},
   "outputs": [],
   "source": [
    "import sympy"
   ]
  },
  {
   "cell_type": "code",
   "execution_count": 8,
   "metadata": {},
   "outputs": [],
   "source": [
    "?sympy"
   ]
  },
  {
   "cell_type": "code",
   "execution_count": 9,
   "metadata": {},
   "outputs": [
    {
     "data": {
      "text/latex": [
       "$\\displaystyle 2.0$"
      ],
      "text/plain": [
       "2.00000000000000"
      ]
     },
     "execution_count": 9,
     "metadata": {},
     "output_type": "execute_result"
    }
   ],
   "source": [
    "z = sympy.symbols('z')\n",
    "sympy.integrate(sympy.sin(z), (z,a,b))"
   ]
  },
  {
   "cell_type": "code",
   "execution_count": null,
   "metadata": {},
   "outputs": [],
   "source": []
  }
 ],
 "metadata": {
  "kernelspec": {
   "display_name": "Python 3",
   "language": "python",
   "name": "python3"
  },
  "language_info": {
   "codemirror_mode": {
    "name": "ipython",
    "version": 3
   },
   "file_extension": ".py",
   "mimetype": "text/x-python",
   "name": "python",
   "nbconvert_exporter": "python",
   "pygments_lexer": "ipython3",
   "version": "3.8.3"
  }
 },
 "nbformat": 4,
 "nbformat_minor": 4
}
