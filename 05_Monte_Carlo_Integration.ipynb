{
 "cells": [
  {
   "cell_type": "markdown",
   "metadata": {},
   "source": [
    "This notebook is based upon https://www.geeksforgeeks.org/monte-carlo-integration-in-python/\n",
    "\n",
    "In Monte Carlo methods random numbers are used to compute integals using the following idea:\n",
    "\n",
    "$<f(x)>\\equiv\\frac{1}{b-a}\\int^b_a f(x) dx$\n",
    "\n",
    "$<f(x)>({b-a})=\\int^b_a f(x) dx$\n",
    "\n",
    "but $<f(x)>\\approx\\frac{1}{N}\\Sigma_{i=1}^N f(x_i)$\n",
    "\n",
    "and therefore $(b-a) \\frac{1}{N}\\Sigma_{i=1}^N f(x_i) \\approx \\int^b_a f(x) dx$\n",
    "\n",
    "where N is the number of points where the function is computed and that will be selected randomly in the interval $[a,b]$.\n"
   ]
  },
  {
   "cell_type": "markdown",
   "metadata": {},
   "source": [
    "Let us use this method to compute $\\int_0^\\pi sin(x) dx = 2$\n",
    "\n",
    "(note that Monte Carlo methods are typically more useful when doing integrals in 2 or more dimensions since one can get an accurate solution with fewer points and hence a lower computational cost than other numerical methods)"
   ]
  },
  {
   "cell_type": "code",
   "execution_count": 1,
   "metadata": {},
   "outputs": [
    {
     "name": "stdout",
     "output_type": "stream",
     "text": [
      "The value calculated by monte carlo integration is 1.9721167206076866.\n"
     ]
    }
   ],
   "source": [
    "import numpy as np\n",
    "\n",
    "# limits of integration\n",
    "a = 0\n",
    "b = np.pi # gets the value of pi\n",
    "N = 1000 #number of points for the integration (the larger the better)\n",
    "\n",
    "# array of zeros of length N\n",
    "ar = np.zeros(N)\n",
    "\n",
    "# iterating over each value of ar and filling\n",
    "# it with a random value between the limits a\n",
    "# and b\n",
    "for i in range (len(ar)):\n",
    "    ar[i] = np.random.uniform(a,b)\n",
    "\n",
    "# variable to store sum of the functions of\n",
    "# different values of x\n",
    "integral = 0.0\n",
    "\n",
    "# function to calculate the sin of a particular\n",
    "# value of x\n",
    "def f(x):\n",
    "    return np.sin(x)\n",
    "\n",
    "# iterates and sums up values of different functions\n",
    "# of x\n",
    "for i in ar:\n",
    "    integral += f(i)\n",
    "\n",
    "# we get the answer by the formula derived adobe\n",
    "ans = (b-a)/N*integral\n",
    "\n",
    "# prints the solution\n",
    "print (f'The value calculated by monte carlo integration is {ans}.')\n"
   ]
  },
  {
   "cell_type": "code",
   "execution_count": 2,
   "metadata": {},
   "outputs": [],
   "source": [
    "#?np.random"
   ]
  },
  {
   "cell_type": "markdown",
   "metadata": {},
   "source": [
    "We can also have a look at the value obtained for the integral when changing $N$. This will give us a visual representation of the most probable result."
   ]
  },
  {
   "cell_type": "code",
   "execution_count": 3,
   "metadata": {},
   "outputs": [
    {
     "data": {
      "image/png": "[encoded data removed]",
      "text/plain": [
       "<Figure size 432x288 with 1 Axes>"
      ]
     },
     "metadata": {
      "needs_background": "light"
     },
     "output_type": "display_data"
    }
   ],
   "source": [
    "import matplotlib.pyplot as plt\n",
    "\n",
    "# list to store all the values for plotting\n",
    "plt_vals = []\n",
    "\n",
    "# we iterate through all the values to generate\n",
    "# multiple results and show whose intensity is\n",
    "# the most.\n",
    "for i in range(N):\n",
    "\n",
    "    #array of zeros of length N\n",
    "    ar = np.zeros(N)\n",
    "\n",
    "    # iterating over each Value of ar and filling it\n",
    "    # with a randome value between the limits a and b\n",
    "    for i in range (len(ar)):\n",
    "        ar[i] = np.random.uniform(a,b)\n",
    "\n",
    "    # variable to store sum of the functions of different\n",
    "    # values of x\n",
    "    integral = 0.0\n",
    "\n",
    "    # iterates and sums up values of different functions\n",
    "    # of x\n",
    "    for i in ar:\n",
    "        integral += f(i)\n",
    "\n",
    "    # we get the answer by the formula derived adobe\n",
    "    ans = (b-a)/float(N)*integral\n",
    "\n",
    "    # appends the solution to a list for plotting the graph\n",
    "    plt_vals.append(ans)\n",
    "\n",
    "# details of the plot to be generated\n",
    "# sets the title of the plot\n",
    "plt.title(\"Distributions of areas calculated\")\n",
    "\n",
    "# 3 parameters (array on which histogram needs\n",
    "# to be made, bins, separators colour between the\n",
    "# beams)\n",
    "plt.hist (plt_vals, bins=30, ec=\"black\")\n",
    "\n",
    "# sets the label of the x-axis of the plot\n",
    "plt.xlabel(\"Areas\")\n",
    "plt.show() # shows the plot\n"
   ]
  },
  {
   "cell_type": "code",
   "execution_count": 4,
   "metadata": {},
   "outputs": [
    {
     "name": "stdout",
     "output_type": "stream",
     "text": [
      "average value = 2.000\n",
      "standard deviation = 0.031\n"
     ]
    }
   ],
   "source": [
    "# we use f-strings (Python 3.6+) to format the output\n",
    "print(f'average value = {np.mean(plt_vals):.3f}')\n",
    "print(f'standard deviation = {np.std(plt_vals):.3f}')"
   ]
  },
  {
   "cell_type": "markdown",
   "metadata": {},
   "source": [
    "From [scipy](https://scipy.org/) we can also load the integrate module to compute the integral in a different way using [scipy.integrate](https://docs.scipy.org/doc/scipy/tutorial/integrate.html)."
   ]
  },
  {
   "cell_type": "code",
   "execution_count": 5,
   "metadata": {},
   "outputs": [],
   "source": [
    "import scipy.integrate as integrate"
   ]
  },
  {
   "cell_type": "code",
   "execution_count": 6,
   "metadata": {},
   "outputs": [],
   "source": [
    "#?integrate"
   ]
  },
  {
   "cell_type": "code",
   "execution_count": 7,
   "metadata": {},
   "outputs": [
    {
     "name": "stdout",
     "output_type": "stream",
     "text": [
      "(2.0, 2.220446049250313e-14)\n"
     ]
    }
   ],
   "source": [
    "result = integrate.quad(f, a, b)\n",
    "print(result)"
   ]
  },
  {
   "cell_type": "markdown",
   "metadata": {},
   "source": [
    "We can also compute the integral analytically using sympy\n",
    "https://www.sympy.org/en/index.html"
   ]
  },
  {
   "cell_type": "code",
   "execution_count": 8,
   "metadata": {},
   "outputs": [],
   "source": [
    "import sympy"
   ]
  },
  {
   "cell_type": "code",
   "execution_count": 9,
   "metadata": {},
   "outputs": [],
   "source": [
    "#?sympy"
   ]
  },
  {
   "cell_type": "code",
   "execution_count": 10,
   "metadata": {},
   "outputs": [
    {
     "name": "stdout",
     "output_type": "stream",
     "text": [
      "-cos(z)\n"
     ]
    }
   ],
   "source": [
    "z = sympy.symbols('z')\n",
    "sol=sympy.integrate(sympy.sin(z), (z))\n",
    "sol"
   ]
  },
  {
   "cell_type": "code",
   "execution_count": 11,
   "metadata": {},
   "outputs": [
    {
     "data": {
      "text/latex": [
       "$\\displaystyle -1$"
      ],
      "text/plain": [
       "-1"
      ]
     },
     "execution_count": 11,
     "metadata": {},
     "output_type": "execute_result"
    }
   ],
   "source": [
    "sol.xreplace({z:0})"
   ]
  },
  {
   "cell_type": "code",
   "execution_count": 12,
   "metadata": {},
   "outputs": [
    {
     "name": "stdout",
     "output_type": "stream",
     "text": [
      "2.000e+0\n",
      "2.000e+0\n"
     ]
    }
   ],
   "source": [
    "sol=sympy.integrate(sympy.sin(z), (z,a,b))\n",
    "print(f'{sol:.3e}')\n",
    "print(f'{sol.evalf():.3e}') #this is useful to get numeric values, instead of expressions, such as pi/2 for example"
   ]
  },
  {
   "cell_type": "markdown",
   "metadata": {},
   "source": [
    "## Exercise 1\n",
    "\n",
    "Compute with the three different methods the following integral:\n",
    "\n",
    "$$\\int_0^1 \\frac{1}{z^3 + 1} dz $$\n",
    "\n",
    "When using ``sympy``, compute first the indefinite integral to have a look at the analytic solution."
   ]
  },
  {
   "cell_type": "code",
   "execution_count": null,
   "metadata": {},
   "outputs": [],
   "source": []
  }
 ],
 "metadata": {
  "kernelspec": {
   "display_name": "Python 3",
   "language": "python",
   "name": "python3"
  },
  "language_info": {
   "codemirror_mode": {
    "name": "ipython",
    "version": 3
   },
   "file_extension": ".py",
   "mimetype": "text/x-python",
   "name": "python",
   "nbconvert_exporter": "python",
   "pygments_lexer": "ipython3",
   "version": "3.8.3"
  }
 },
 "nbformat": 4,
 "nbformat_minor": 4
}
